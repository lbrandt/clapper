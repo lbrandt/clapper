{
 "cells": [
  {
   "cell_type": "code",
   "execution_count": 9,
   "id": "fdd6ff54-48d3-4808-aec1-fdad58121355",
   "metadata": {},
   "outputs": [],
   "source": [
    "from nltk.tokenize import LegalitySyllableTokenizer\n",
    "from nltk import word_tokenize\n",
    "from nltk.corpus import words\n",
    "\n"
   ]
  },
  {
   "cell_type": "code",
   "execution_count": 14,
   "id": "67785fc4-5ebd-42ad-8986-84407a883ec3",
   "metadata": {},
   "outputs": [
    {
     "data": {
      "text/plain": [
       "[['This'], ['is'], ['a'], ['won', 'der', 'ful'], ['sen', 'ten', 'ce'], ['.']]"
      ]
     },
     "execution_count": 14,
     "metadata": {},
     "output_type": "execute_result"
    }
   ],
   "source": [
    "# English text\n",
    "text = \"This is a wonderful sentence.\"\n",
    "text_words = word_tokenize(text)\n",
    "LP = LegalitySyllableTokenizer(words.words())\n",
    "[LP.tokenize(word) for word in text_words]"
   ]
  },
  {
   "cell_type": "code",
   "execution_count": 15,
   "id": "b16ced82-299b-4ace-8308-7de45a83e9f8",
   "metadata": {},
   "outputs": [
    {
     "data": {
      "text/plain": [
       "[['Ich'],\n",
       " ['möch', 'te'],\n",
       " ['di', 'e', 'sen'],\n",
       " ['Tep', 'pich'],\n",
       " ['nicht'],\n",
       " ['ka', 'u', 'fen'],\n",
       " ['.']]"
      ]
     },
     "execution_count": 15,
     "metadata": {},
     "output_type": "execute_result"
    }
   ],
   "source": [
    "# German text\n",
    "text = \"Ich möchte diesen Teppich nicht kaufen.\"\n",
    "text_words = word_tokenize(text, language = \"german\")\n",
    "LP = LegalitySyllableTokenizer(words.words())\n",
    "[LP.tokenize(word) for word in text_words]"
   ]
  },
  {
   "cell_type": "code",
   "execution_count": null,
   "id": "aca24cc3-ae72-4a71-9874-f1da48adb6d3",
   "metadata": {},
   "outputs": [],
   "source": []
  },
  {
   "cell_type": "code",
   "execution_count": null,
   "id": "07c8d843-1af1-4ec2-8c01-ae18214ccfd6",
   "metadata": {},
   "outputs": [],
   "source": []
  }
 ],
 "metadata": {
  "kernelspec": {
   "display_name": "Python 3",
   "language": "python",
   "name": "python3"
  },
  "language_info": {
   "codemirror_mode": {
    "name": "ipython",
    "version": 3
   },
   "file_extension": ".py",
   "mimetype": "text/x-python",
   "name": "python",
   "nbconvert_exporter": "python",
   "pygments_lexer": "ipython3",
   "version": "3.8.8"
  }
 },
 "nbformat": 4,
 "nbformat_minor": 5
}
