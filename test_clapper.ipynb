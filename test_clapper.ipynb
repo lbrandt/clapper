{
 "cells": [
  {
   "cell_type": "code",
   "execution_count": null,
   "id": "fdd6ff54-48d3-4808-aec1-fdad58121355",
   "metadata": {},
   "outputs": [],
   "source": [
    "from nltk.tokenize import LegalitySyllableTokenizer\n",
    "from nltk import word_tokenize\n",
    "from nltk.corpus import words\n",
    "text = \"This is a wonderful sentence.\"\n",
    "text_words = word_tokenize(text)\n",
    "LP = LegalitySyllableTokenizer(words.words())\n",
    "[LP.tokenize(word) for word in text_words]\n",
    "[['This'], ['is'], ['a'], ['won', 'der', 'ful'], ['sen', 'ten', 'ce'], ['.']]\n",
    "\n"
   ]
  }
 ],
 "metadata": {
  "kernelspec": {
   "display_name": "Python 3",
   "language": "python",
   "name": "python3"
  },
  "language_info": {
   "codemirror_mode": {
    "name": "ipython",
    "version": 3
   },
   "file_extension": ".py",
   "mimetype": "text/x-python",
   "name": "python",
   "nbconvert_exporter": "python",
   "pygments_lexer": "ipython3",
   "version": "3.8.8"
  }
 },
 "nbformat": 4,
 "nbformat_minor": 5
}
